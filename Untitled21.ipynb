{
 "cells": [
  {
   "cell_type": "markdown",
   "id": "846f93f8",
   "metadata": {},
   "source": [
    "Ans1\n",
    "\n",
    "A database is a structured collection of data, organized to facilitate efficient data storage, retrieval, and management. It serves as a central repository for applications to access, manipulate, and query data.\n",
    "\n",
    "SQL (Structured Query Language) databases are relational databases, storing data in tables with predefined schemas. They enforce data integrity through constraints and support complex queries using SQL for data manipulation.\n",
    "\n",
    "NoSQL databases, on the other hand, are non-relational databases, providing flexible, schema-less data models. They are designed for horizontal scaling and handle large volumes of unstructured or semi-structured data efficiently. NoSQL databases come in various types, such as document-based (e.g., MongoDB), key-value (e.g., Redis), column-family (e.g., Cassandra), and graph-based (e.g., Neo4j)."
   ]
  },
  {
   "cell_type": "markdown",
   "id": "cd3aabdc",
   "metadata": {},
   "source": [
    "Ans2:\n",
    "\n",
    "DML stands for Data Manipulation Language, a subset of SQL used to manage data within a database. It includes commands like INSERT, UPDATE, and DELETE.\n",
    "\n",
    "1. INSERT: It adds new records into a table.\n",
    "   Example: `INSERT INTO employees (id, name, age) VALUES (1, 'John Doe', 30);`\n",
    "\n",
    "2. UPDATE: It modifies existing records in a table.\n",
    "   Example: `UPDATE employees SET age = 31 WHERE id = 1;`\n",
    "\n",
    "3. DELETE: It removes records from a table.\n",
    "   Example: `DELETE FROM employees WHERE id = 1;`\n",
    "\n",
    "DML commands allow users to interact with the data stored in the database, facilitating data insertion, modification, and deletion operations."
   ]
  },
  {
   "cell_type": "markdown",
   "id": "8d0e3ad8",
   "metadata": {},
   "source": [
    "Ans3:\n",
    "\n",
    "DQL stands for Data Query Language, a subset of SQL used to retrieve data from a database. The most common DQL command is SELECT.\n",
    "\n",
    "SELECT is used to retrieve specific data from one or more database tables based on specified criteria. It allows users to filter, sort, and limit the data returned.\n",
    "\n",
    "Example: `SELECT name, age FROM employees WHERE department = 'IT';`\n",
    "\n",
    "In this example, the SELECT statement retrieves the names and ages of employees from the \"employees\" table who belong to the \"IT\" department. The result will include only the relevant data meeting the specified condition. DQL plays a crucial role in fetching data and generating reports from the database."
   ]
  },
  {
   "cell_type": "markdown",
   "id": "ae3a910d",
   "metadata": {},
   "source": [
    "Ans4:\n",
    "    \n",
    "A Primary Key is a unique identifier for each record in a database table. It ensures data integrity and facilitates quick data retrieval. Each table can have only one Primary Key, and it must have a unique value for each record.\n",
    "\n",
    "A Foreign Key is a field in a table that references the Primary Key of another table, establishing a relationship between the two tables. It enforces referential integrity and helps maintain data consistency across related tables. A Foreign Key ensures that data in one table corresponds to data in another table, creating associations between related records in different tables. This relationship allows for efficient querying and retrieval of related data."
   ]
  },
  {
   "cell_type": "markdown",
   "id": "ae38b23d",
   "metadata": {},
   "source": [
    "Ans5:"
   ]
  },
  {
   "cell_type": "code",
   "execution_count": null,
   "id": "08e945b1",
   "metadata": {},
   "outputs": [],
   "source": [
    "import mysql.connector\n",
    "\n",
    "# Connect to the MySQL database\n",
    "conn = mysql.connector.connect(\n",
    "    host=\"localhost\",\n",
    "    user=\"your_username\",\n",
    "    password=\"your_password\",\n",
    "    database=\"your_database\"\n",
    ")\n",
    "\n",
    "# Create a cursor object to execute SQL queries\n",
    "cursor = conn.cursor()\n",
    "\n",
    "# Execute SQL queries using the cursor\n",
    "cursor.execute(\"CREATE TABLE employees (id INT PRIMARY KEY, name VARCHAR(50), age INT)\")\n",
    "cursor.execute(\"INSERT INTO employees (id, name, age) VALUES (1, 'John Doe', 30)\")\n",
    "\n",
    "# Commit changes and close the connection\n",
    "conn.commit()\n",
    "conn.close()\n"
   ]
  },
  {
   "cell_type": "markdown",
   "id": "6d6adc8b",
   "metadata": {},
   "source": [
    "Ans6:\n",
    "    \n",
    "    In an SQL query, the order of execution of clauses is as follows:\n",
    "\n",
    "1. SELECT: It specifies which columns to retrieve from the database.\n",
    "2. FROM: It specifies the table or tables from which to retrieve the data.\n",
    "3. JOIN: It combines data from multiple tables based on specified conditions.\n",
    "4. WHERE: It filters rows based on specified conditions.\n",
    "5. GROUP BY: It groups the results based on specified columns.\n",
    "6. HAVING: It filters grouped data based on specified conditions.\n",
    "7. ORDER BY: It sorts the results based on specified columns.\n",
    "8. LIMIT/OFFSET: It limits the number of rows returned or skips a certain number of rows.\n",
    "\n",
    "The SQL engine processes the clauses in the above order to produce the final result set."
   ]
  }
 ],
 "metadata": {
  "kernelspec": {
   "display_name": "Python 3 (ipykernel)",
   "language": "python",
   "name": "python3"
  },
  "language_info": {
   "codemirror_mode": {
    "name": "ipython",
    "version": 3
   },
   "file_extension": ".py",
   "mimetype": "text/x-python",
   "name": "python",
   "nbconvert_exporter": "python",
   "pygments_lexer": "ipython3",
   "version": "3.9.13"
  }
 },
 "nbformat": 4,
 "nbformat_minor": 5
}
